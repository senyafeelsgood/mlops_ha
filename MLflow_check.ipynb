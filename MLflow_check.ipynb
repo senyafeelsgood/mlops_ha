{
 "cells": [
  {
   "cell_type": "code",
   "execution_count": 1,
   "id": "7cdd69e8",
   "metadata": {},
   "outputs": [],
   "source": [
    "import mlflow\n",
    "import os\n",
    "import pandas as pd\n",
    "\n",
    "from mlflow.tracking import MlflowClient\n",
    "from mlflow.models import infer_signature\n",
    "from mlflow.store.artifact.artifact_repository_registry import get_artifact_repository\n",
    "\n",
    "from sklearn.datasets import fetch_california_housing\n",
    "from sklearn.ensemble import RandomForestRegressor, HistGradientBoostingRegressor\n",
    "from sklearn.linear_model import LinearRegression\n",
    "from sklearn.metrics import mean_squared_error, r2_score\n",
    "from sklearn.model_selection import train_test_split"
   ]
  },
  {
   "cell_type": "code",
   "execution_count": 187,
   "id": "e83f5460-00fa-4c0f-8af1-6d594ddbdc56",
   "metadata": {},
   "outputs": [
    {
     "data": {
      "text/plain": [
       "'http://mlflow-service:5000'"
      ]
     },
     "execution_count": 187,
     "metadata": {},
     "output_type": "execute_result"
    }
   ],
   "source": [
    "os.getenv(\"MLFLOW_TRACKING_URI\", \"No env\")"
   ]
  },
  {
   "cell_type": "code",
   "execution_count": 188,
   "id": "c5ed77d3",
   "metadata": {},
   "outputs": [
    {
     "data": {
      "text/plain": [
       "'http://mlflow-service:5000'"
      ]
     },
     "execution_count": 188,
     "metadata": {},
     "output_type": "execute_result"
    }
   ],
   "source": [
    "mlflow.get_registry_uri()"
   ]
  },
  {
   "cell_type": "markdown",
   "id": "3b610c24-ef75-4042-920a-7e5de4b54745",
   "metadata": {},
   "source": [
    "# Управление экспериментами"
   ]
  },
  {
   "cell_type": "code",
   "execution_count": 193,
   "id": "407a35f0",
   "metadata": {},
   "outputs": [],
   "source": [
    "exp_id = mlflow.create_experiment(name=\"test\")"
   ]
  },
  {
   "cell_type": "code",
   "execution_count": 194,
   "id": "53c0d7f7-992d-4ab0-a3a3-b5684e5e191f",
   "metadata": {},
   "outputs": [
    {
     "data": {
      "text/plain": [
       "'467883773888126917'"
      ]
     },
     "execution_count": 194,
     "metadata": {},
     "output_type": "execute_result"
    }
   ],
   "source": [
    "exp_id"
   ]
  },
  {
   "cell_type": "code",
   "execution_count": 191,
   "id": "ac1236bf-a699-426c-9b57-c840ef133add",
   "metadata": {},
   "outputs": [],
   "source": [
    "mlflow.delete_experiment(experiment_id=exp_id)"
   ]
  },
  {
   "cell_type": "markdown",
   "id": "40d8da88-6e20-4b70-bb4b-10bbe3eae1b1",
   "metadata": {},
   "source": [
    "Не забудьте про rm -rf mlruns/trash/*"
   ]
  },
  {
   "cell_type": "code",
   "execution_count": 195,
   "id": "4c0e7f2b-387d-4bd3-903d-7a597cd5f404",
   "metadata": {},
   "outputs": [
    {
     "data": {
      "text/plain": [
       "[<Experiment: artifact_location='s3://lizvladi-mlflow-artifacts/mlflow/467883773888126917', creation_time=1727798289091, experiment_id='467883773888126917', last_update_time=1727798289091, lifecycle_stage='active', name='test', tags={}>]"
      ]
     },
     "execution_count": 195,
     "metadata": {},
     "output_type": "execute_result"
    }
   ],
   "source": [
    "mlflow.search_experiments(\n",
    "    filter_string=\"name = 'test'\"\n",
    ")"
   ]
  },
  {
   "cell_type": "code",
   "execution_count": 196,
   "id": "0a11f591-b1ac-4a8c-9676-da423cea7cd3",
   "metadata": {},
   "outputs": [
    {
     "data": {
      "text/plain": [
       "[<Experiment: artifact_location='s3://lizvladi-mlflow-artifacts/mlflow/467883773888126917', creation_time=1727798289091, experiment_id='467883773888126917', last_update_time=1727798289091, lifecycle_stage='active', name='test', tags={}>,\n",
       " <Experiment: artifact_location='s3://lizvladi-mlflow-artifacts/mlflow/281429030876195101', creation_time=1727787919129, experiment_id='281429030876195101', last_update_time=1727787919129, lifecycle_stage='active', name='elizveta_gavrilova', tags={}>,\n",
       " <Experiment: artifact_location='s3://lizvladi-mlflow-artifacts/parent_run_experiment', creation_time=1727785001137, experiment_id='637350945412675068', last_update_time=1727785001137, lifecycle_stage='active', name='parent_run_experiment', tags={}>,\n",
       " <Experiment: artifact_location='s3://lizvladi-mlflow-artifacts/mlflow/202052760323277175', creation_time=1725894166122, experiment_id='202052760323277175', last_update_time=1725894166122, lifecycle_stage='active', name='FINAL', tags={}>,\n",
       " <Experiment: artifact_location='s3://lizvladi-mlflow-artifacts/mlflow/0', creation_time=1725894130528, experiment_id='0', last_update_time=1725894130528, lifecycle_stage='active', name='Default', tags={}>]"
      ]
     },
     "execution_count": 196,
     "metadata": {},
     "output_type": "execute_result"
    }
   ],
   "source": [
    "mlflow.search_experiments()"
   ]
  },
  {
   "cell_type": "code",
   "execution_count": 197,
   "id": "1b9ad128-f796-40be-9df7-bf2347509841",
   "metadata": {},
   "outputs": [
    {
     "name": "stderr",
     "output_type": "stream",
     "text": [
      "2024/10/01 15:58:56 INFO mlflow.tracking._tracking_service.client: 🏃 View run rumbling-jay-171 at: http://mlflow-service:5000/#/experiments/467883773888126917/runs/5c8ab5a76751416aaa4752a13f05b38d.\n",
      "2024/10/01 15:58:56 INFO mlflow.tracking._tracking_service.client: 🧪 View experiment at: http://mlflow-service:5000/#/experiments/467883773888126917.\n"
     ]
    }
   ],
   "source": [
    "mlflow.set_experiment(experiment_name=\"test\")\n",
    "\n",
    "with mlflow.start_run():\n",
    "    # Обучим модель.\n",
    "    model.fit(X_train, y_train)"
   ]
  },
  {
   "cell_type": "markdown",
   "id": "5b9b14ba-38d8-4349-975c-0f22bf5074de",
   "metadata": {},
   "source": [
    "# Что можно отслеживать в рамках эксперимента"
   ]
  },
  {
   "cell_type": "code",
   "execution_count": 198,
   "id": "33b7e3e8-77f4-4811-acf4-9aac7342fd44",
   "metadata": {},
   "outputs": [],
   "source": [
    "# Прочитаем данные.\n",
    "housing = fetch_california_housing(as_frame=True)"
   ]
  },
  {
   "cell_type": "code",
   "execution_count": 199,
   "id": "6afa2419-adb7-4012-a514-21aa867a37a1",
   "metadata": {},
   "outputs": [],
   "source": [
    "X_train, X_test, y_train, y_test = train_test_split(housing['data'], housing['target'])\n",
    "X_val, X_test, y_val, y_test = train_test_split(X_test, y_test, test_size=0.5)"
   ]
  },
  {
   "cell_type": "code",
   "execution_count": 200,
   "id": "c5c61e9f-1718-4b06-af04-0004e61c93c7",
   "metadata": {},
   "outputs": [
    {
     "data": {
      "text/html": [
       "<div>\n",
       "<style scoped>\n",
       "    .dataframe tbody tr th:only-of-type {\n",
       "        vertical-align: middle;\n",
       "    }\n",
       "\n",
       "    .dataframe tbody tr th {\n",
       "        vertical-align: top;\n",
       "    }\n",
       "\n",
       "    .dataframe thead th {\n",
       "        text-align: right;\n",
       "    }\n",
       "</style>\n",
       "<table border=\"1\" class=\"dataframe\">\n",
       "  <thead>\n",
       "    <tr style=\"text-align: right;\">\n",
       "      <th></th>\n",
       "      <th>MedInc</th>\n",
       "      <th>HouseAge</th>\n",
       "      <th>AveRooms</th>\n",
       "      <th>AveBedrms</th>\n",
       "      <th>Population</th>\n",
       "      <th>AveOccup</th>\n",
       "      <th>Latitude</th>\n",
       "      <th>Longitude</th>\n",
       "    </tr>\n",
       "  </thead>\n",
       "  <tbody>\n",
       "    <tr>\n",
       "      <th>18940</th>\n",
       "      <td>5.0672</td>\n",
       "      <td>14.0</td>\n",
       "      <td>7.075665</td>\n",
       "      <td>1.018405</td>\n",
       "      <td>3196.0</td>\n",
       "      <td>3.267894</td>\n",
       "      <td>38.27</td>\n",
       "      <td>-122.06</td>\n",
       "    </tr>\n",
       "    <tr>\n",
       "      <th>5179</th>\n",
       "      <td>1.6389</td>\n",
       "      <td>44.0</td>\n",
       "      <td>4.438596</td>\n",
       "      <td>0.947368</td>\n",
       "      <td>1296.0</td>\n",
       "      <td>3.248120</td>\n",
       "      <td>33.95</td>\n",
       "      <td>-118.26</td>\n",
       "    </tr>\n",
       "    <tr>\n",
       "      <th>15683</th>\n",
       "      <td>5.7934</td>\n",
       "      <td>52.0</td>\n",
       "      <td>4.151565</td>\n",
       "      <td>1.069193</td>\n",
       "      <td>959.0</td>\n",
       "      <td>1.579901</td>\n",
       "      <td>37.80</td>\n",
       "      <td>-122.43</td>\n",
       "    </tr>\n",
       "    <tr>\n",
       "      <th>7488</th>\n",
       "      <td>3.4539</td>\n",
       "      <td>43.0</td>\n",
       "      <td>4.561069</td>\n",
       "      <td>0.977099</td>\n",
       "      <td>1251.0</td>\n",
       "      <td>4.774809</td>\n",
       "      <td>33.92</td>\n",
       "      <td>-118.22</td>\n",
       "    </tr>\n",
       "    <tr>\n",
       "      <th>5380</th>\n",
       "      <td>3.2222</td>\n",
       "      <td>24.0</td>\n",
       "      <td>3.836237</td>\n",
       "      <td>1.108014</td>\n",
       "      <td>491.0</td>\n",
       "      <td>1.710801</td>\n",
       "      <td>34.03</td>\n",
       "      <td>-118.40</td>\n",
       "    </tr>\n",
       "  </tbody>\n",
       "</table>\n",
       "</div>"
      ],
      "text/plain": [
       "       MedInc  HouseAge  AveRooms  AveBedrms  Population  AveOccup  Latitude  \\\n",
       "18940  5.0672      14.0  7.075665   1.018405      3196.0  3.267894     38.27   \n",
       "5179   1.6389      44.0  4.438596   0.947368      1296.0  3.248120     33.95   \n",
       "15683  5.7934      52.0  4.151565   1.069193       959.0  1.579901     37.80   \n",
       "7488   3.4539      43.0  4.561069   0.977099      1251.0  4.774809     33.92   \n",
       "5380   3.2222      24.0  3.836237   1.108014       491.0  1.710801     34.03   \n",
       "\n",
       "       Longitude  \n",
       "18940    -122.06  \n",
       "5179     -118.26  \n",
       "15683    -122.43  \n",
       "7488     -118.22  \n",
       "5380     -118.40  "
      ]
     },
     "execution_count": 200,
     "metadata": {},
     "output_type": "execute_result"
    }
   ],
   "source": [
    "X_test.head()"
   ]
  },
  {
   "cell_type": "markdown",
   "id": "08c946b7-0b4d-4784-85b2-260ad941ee2a",
   "metadata": {},
   "source": [
    "## Первый запуск run"
   ]
  },
  {
   "cell_type": "code",
   "execution_count": 154,
   "id": "b84285a0-8beb-48a0-9b31-7074fc7f9503",
   "metadata": {},
   "outputs": [],
   "source": [
    "model = LinearRegression()"
   ]
  },
  {
   "cell_type": "code",
   "execution_count": 201,
   "id": "fe40f05f-ff90-49e6-a9cc-8a1d16266185",
   "metadata": {},
   "outputs": [
    {
     "name": "stderr",
     "output_type": "stream",
     "text": [
      "2024/10/01 16:00:17 INFO mlflow.tracking._tracking_service.client: 🏃 View run spiffy-lamb-687 at: http://mlflow-service:5000/#/experiments/467883773888126917/runs/9895cea9b4a24f2f90a8b5e31beb18b0.\n",
      "2024/10/01 16:00:17 INFO mlflow.tracking._tracking_service.client: 🧪 View experiment at: http://mlflow-service:5000/#/experiments/467883773888126917.\n"
     ]
    }
   ],
   "source": [
    "# Запустим свой первый run в рамках созданного выше эксперимента.\n",
    "with mlflow.start_run(experiment_id=exp_id) as run:\n",
    "    # Обучим модель.\n",
    "    model.fit(X_train, y_train)"
   ]
  },
  {
   "cell_type": "markdown",
   "id": "8c6d245c-fcec-42d1-ae0f-08c45d8ea5f9",
   "metadata": {},
   "source": [
    "## Ручное логирование метрик"
   ]
  },
  {
   "cell_type": "code",
   "execution_count": 202,
   "id": "f62334ec-185e-49ad-9be6-d072ab24afe7",
   "metadata": {},
   "outputs": [],
   "source": [
    "model = RandomForestRegressor()"
   ]
  },
  {
   "cell_type": "code",
   "execution_count": 203,
   "id": "81202eac-be93-43e9-b420-611d2f0a8f9a",
   "metadata": {},
   "outputs": [],
   "source": [
    "params = {'n_estimators':50, 'min_samples_split':3}"
   ]
  },
  {
   "cell_type": "code",
   "execution_count": 204,
   "id": "c3ed7ce7-ab54-4326-865c-ac1c63f4efca",
   "metadata": {},
   "outputs": [
    {
     "name": "stderr",
     "output_type": "stream",
     "text": [
      "2024/10/01 16:01:29 INFO mlflow.tracking._tracking_service.client: 🏃 View run welcoming-ant-90 at: http://mlflow-service:5000/#/experiments/467883773888126917/runs/5d1e1f97996d4b60bf274675989ae58b.\n",
      "2024/10/01 16:01:29 INFO mlflow.tracking._tracking_service.client: 🧪 View experiment at: http://mlflow-service:5000/#/experiments/467883773888126917.\n"
     ]
    }
   ],
   "source": [
    "# Запустим свой первый run в рамках созданного выше эксперимента.\n",
    "with mlflow.start_run(experiment_id=exp_id) as run:\n",
    "\n",
    "    # Обучим модель.\n",
    "    model.fit(X_train, y_train)\n",
    "\n",
    "    # Сделаем предсказание.\n",
    "    prediction = model.predict(X_val)\n",
    "\n",
    "    mlflow.log_metrics({'r2':r2_score(y_val, prediction),\n",
    "                        'mse':mean_squared_error(y_val, prediction)})\n",
    "\n",
    "    mlflow.log_params(params)"
   ]
  },
  {
   "cell_type": "markdown",
   "id": "15527b1b-1143-4cff-a1c7-1ccb68b91abe",
   "metadata": {},
   "source": [
    "## Автоматическая оценка модели"
   ]
  },
  {
   "cell_type": "code",
   "execution_count": 205,
   "id": "8016155f-6e87-43a8-91e3-e0646af9232b",
   "metadata": {},
   "outputs": [
    {
     "name": "stderr",
     "output_type": "stream",
     "text": [
      "2024/10/01 16:04:05 INFO mlflow.models.evaluation.default_evaluator: Testing metrics on first row...\n",
      "2024/10/01 16:04:05 WARNING mlflow.models.evaluation.default_evaluator: SHAP or matplotlib package is not installed, so model explainability insights will not be logged.\n",
      "2024/10/01 16:04:05 INFO mlflow.tracking._tracking_service.client: 🏃 View run indecisive-rat-239 at: http://mlflow-service:5000/#/experiments/467883773888126917/runs/8208af17367444aaa2609c2472942d47.\n",
      "2024/10/01 16:04:05 INFO mlflow.tracking._tracking_service.client: 🧪 View experiment at: http://mlflow-service:5000/#/experiments/467883773888126917.\n"
     ]
    }
   ],
   "source": [
    "# Запустим свой первый run в рамках созданного выше эксперимента.\n",
    "with mlflow.start_run(experiment_id=exp_id) as run:\n",
    "    # Обучим модель.\n",
    "    model.fit(X_train, y_train)\n",
    "\n",
    "    # Сделаем предсказание.\n",
    "    prediction = model.predict(X_val)\n",
    "\n",
    "    # Создадим валидационный датасет.\n",
    "    eval_df = X_val.copy()\n",
    "    eval_df[\"target\"] = y_val\n",
    "    eval_df[\"prediction\"] = prediction\n",
    "\n",
    "    # Сохраним результаты обучения с помощью MLFlow.\n",
    "    mlflow.evaluate(\n",
    "        data=eval_df,\n",
    "        targets=\"target\",\n",
    "        predictions=\"prediction\",\n",
    "        model_type=\"regressor\",\n",
    "        evaluators=[\"default\"],\n",
    "    )"
   ]
  },
  {
   "cell_type": "markdown",
   "id": "cc3e01d7-9f0e-41cc-a18a-4fe20bcf530b",
   "metadata": {},
   "source": [
    "## Логирование модели в хранилище артефактов"
   ]
  },
  {
   "cell_type": "code",
   "execution_count": 160,
   "id": "fba7f7cd-e0f5-4e14-9b56-9cfaf6195847",
   "metadata": {},
   "outputs": [],
   "source": [
    "model = LinearRegression()"
   ]
  },
  {
   "cell_type": "code",
   "execution_count": 206,
   "id": "5fb8857c-6150-48a6-a70f-c2924bd11962",
   "metadata": {},
   "outputs": [
    {
     "name": "stderr",
     "output_type": "stream",
     "text": [
      "/opt/conda/lib/python3.11/site-packages/_distutils_hack/__init__.py:18: UserWarning: Distutils was imported before Setuptools, but importing Setuptools also replaces the `distutils` module in `sys.modules`. This may lead to undesirable behaviors or errors. To avoid these issues, avoid using distutils directly, ensure that setuptools is installed in the traditional way (e.g. not an editable install), and/or make sure that setuptools is always imported before distutils.\n",
      "  warnings.warn(\n",
      "/opt/conda/lib/python3.11/site-packages/_distutils_hack/__init__.py:33: UserWarning: Setuptools is replacing distutils.\n",
      "  warnings.warn(\"Setuptools is replacing distutils.\")\n"
     ]
    },
    {
     "data": {
      "application/vnd.jupyter.widget-view+json": {
       "model_id": "a5a48c0a95f84112ad41cedc241674d2",
       "version_major": 2,
       "version_minor": 0
      },
      "text/plain": [
       "Downloading artifacts:   0%|          | 0/5 [00:00<?, ?it/s]"
      ]
     },
     "metadata": {},
     "output_type": "display_data"
    },
    {
     "name": "stderr",
     "output_type": "stream",
     "text": [
      "2024/10/01 16:08:13 INFO mlflow.models.evaluation.default_evaluator: Computing model predictions.\n",
      "2024/10/01 16:08:13 INFO mlflow.models.evaluation.default_evaluator: Testing metrics on first row...\n",
      "2024/10/01 16:08:13 WARNING mlflow.models.evaluation.default_evaluator: SHAP or matplotlib package is not installed, so model explainability insights will not be logged.\n",
      "2024/10/01 16:08:13 INFO mlflow.tracking._tracking_service.client: 🏃 View run powerful-asp-87 at: http://mlflow-service:5000/#/experiments/467883773888126917/runs/fbae7e11059741758382819e1f6b3767.\n",
      "2024/10/01 16:08:13 INFO mlflow.tracking._tracking_service.client: 🧪 View experiment at: http://mlflow-service:5000/#/experiments/467883773888126917.\n"
     ]
    }
   ],
   "source": [
    "# Запустим свой первый run в рамках созданного выше эксперимента.\n",
    "with mlflow.start_run(experiment_id=exp_id) as run:\n",
    "    # Обучим модель.\n",
    "    model.fit(X_train, y_train)\n",
    "\n",
    "    # Сделаем предсказание.\n",
    "    prediction = model.predict(X_val)\n",
    "\n",
    "    # Создадим валидационный датасет.\n",
    "    eval_df = X_val.copy()\n",
    "    eval_df[\"target\"] = y_val\n",
    "    #eval_df[\"prediction\"] = prediction\n",
    "\n",
    "    # Сохраним результаты обучения с помощью MLFlow.\n",
    "    signature = infer_signature(housing['data'], prediction)\n",
    "    model_info = mlflow.sklearn.log_model(model, 'logreg', signature=signature)\n",
    "    mlflow.evaluate(\n",
    "        model=model_info.model_uri,\n",
    "        data=eval_df,\n",
    "        targets=\"target\",\n",
    "        #predictions=\"prediction\",\n",
    "        model_type=\"regressor\",\n",
    "        evaluators=[\"default\"],\n",
    "    )"
   ]
  },
  {
   "cell_type": "code",
   "execution_count": 162,
   "id": "4b63ad72-a711-400a-98b4-d3d068c89513",
   "metadata": {},
   "outputs": [],
   "source": [
    "os.environ[\"MLFLOW_ENABLE_SYSTEM_METRICS_LOGGING\"] = \"true\""
   ]
  },
  {
   "cell_type": "code",
   "execution_count": 163,
   "id": "10bc312a-0068-4101-8f64-e23412bd2209",
   "metadata": {},
   "outputs": [
    {
     "name": "stderr",
     "output_type": "stream",
     "text": [
      "2024/10/01 12:40:10 WARNING mlflow.system_metrics.system_metrics_monitor: Skip logging GPU metrics because creating `GPUMonitor` failed with error: `pynvml` is not installed, to log GPU metrics please run `pip install pynvml` to install it..\n",
      "2024/10/01 12:40:10 INFO mlflow.system_metrics.system_metrics_monitor: Started monitoring system metrics.\n",
      "/opt/conda/lib/python3.11/site-packages/_distutils_hack/__init__.py:18: UserWarning: Distutils was imported before Setuptools, but importing Setuptools also replaces the `distutils` module in `sys.modules`. This may lead to undesirable behaviors or errors. To avoid these issues, avoid using distutils directly, ensure that setuptools is installed in the traditional way (e.g. not an editable install), and/or make sure that setuptools is always imported before distutils.\n",
      "  warnings.warn(\n",
      "/opt/conda/lib/python3.11/site-packages/_distutils_hack/__init__.py:33: UserWarning: Setuptools is replacing distutils.\n",
      "  warnings.warn(\"Setuptools is replacing distutils.\")\n"
     ]
    },
    {
     "data": {
      "application/vnd.jupyter.widget-view+json": {
       "model_id": "daff6d7a04ed4f60870637d113e67a57",
       "version_major": 2,
       "version_minor": 0
      },
      "text/plain": [
       "Downloading artifacts:   0%|          | 0/5 [00:00<?, ?it/s]"
      ]
     },
     "metadata": {},
     "output_type": "display_data"
    },
    {
     "name": "stderr",
     "output_type": "stream",
     "text": [
      "2024/10/01 12:40:15 INFO mlflow.models.evaluation.default_evaluator: Computing model predictions.\n",
      "2024/10/01 12:40:15 INFO mlflow.models.evaluation.default_evaluator: Testing metrics on first row...\n",
      "2024/10/01 12:40:15 WARNING mlflow.models.evaluation.default_evaluator: SHAP or matplotlib package is not installed, so model explainability insights will not be logged.\n",
      "2024/10/01 12:40:15 INFO mlflow.tracking._tracking_service.client: 🏃 View run rare-sponge-111 at: http://mlflow-service:5000/#/experiments/593802373514970674/runs/e5d137e98bba46d79b1f689b1919fe1e.\n",
      "2024/10/01 12:40:15 INFO mlflow.tracking._tracking_service.client: 🧪 View experiment at: http://mlflow-service:5000/#/experiments/593802373514970674.\n",
      "2024/10/01 12:40:15 INFO mlflow.system_metrics.system_metrics_monitor: Stopping system metrics monitoring...\n",
      "2024/10/01 12:40:15 INFO mlflow.system_metrics.system_metrics_monitor: Successfully terminated system metrics monitoring!\n"
     ]
    }
   ],
   "source": [
    "# Запустим свой первый run в рамках созданного выше эксперимента.\n",
    "with mlflow.start_run(experiment_id=exp_id) as run:\n",
    "    # Обучим модель.\n",
    "    model.fit(X_train, y_train)\n",
    "\n",
    "    # Сделаем предсказание.\n",
    "    prediction = model.predict(X_val)\n",
    "\n",
    "    # Создадим валидационный датасет.\n",
    "    eval_df = X_val.copy()\n",
    "    eval_df[\"target\"] = y_val\n",
    "    #eval_df[\"prediction\"] = prediction\n",
    "\n",
    "    # Сохраним результаты обучения с помощью MLFlow.\n",
    "    signature = infer_signature(housing['data'], prediction)\n",
    "    model_info = mlflow.sklearn.log_model(model, 'logreg', signature=signature)\n",
    "    mlflow.evaluate(\n",
    "        model=model_info.model_uri,\n",
    "        data=eval_df,\n",
    "        targets=\"target\",\n",
    "        #predictions=\"prediction\",\n",
    "        model_type=\"regressor\",\n",
    "        evaluators=[\"default\"],\n",
    "    )"
   ]
  },
  {
   "cell_type": "code",
   "execution_count": 164,
   "id": "e374939b-8293-4bbc-b953-7971763a13a4",
   "metadata": {},
   "outputs": [],
   "source": [
    "os.environ[\"MLFLOW_ENABLE_SYSTEM_METRICS_LOGGING\"] = \"false\""
   ]
  },
  {
   "cell_type": "code",
   "execution_count": 165,
   "id": "34cb89fa-d281-42b1-9da6-8cb22fe9bce9",
   "metadata": {},
   "outputs": [],
   "source": [
    "# Удалим эксперимент из MLFlow.\n",
    "mlflow.delete_experiment(experiment_id=exp_id)"
   ]
  },
  {
   "cell_type": "code",
   "execution_count": 166,
   "id": "26c1ff15-25f5-4c8c-818e-c47a98c6a6f0",
   "metadata": {},
   "outputs": [],
   "source": [
    "# Удалим эксперимент из S3.\n",
    "repository = get_artifact_repository(f's3://lizvladi-mlflow-artifacts/mlflow/{exp_id}')\n",
    "repository.delete_artifacts()"
   ]
  },
  {
   "cell_type": "markdown",
   "id": "cf967909-d08a-46ae-a2a4-8d5c7cf39147",
   "metadata": {},
   "source": [
    "## Работа с дочерними ранами"
   ]
  },
  {
   "cell_type": "code",
   "execution_count": 207,
   "id": "fad7d9a3",
   "metadata": {},
   "outputs": [
    {
     "data": {
      "text/plain": [
       "<Experiment: artifact_location='s3://lizvladi-mlflow-artifacts/parent_run_experiment', creation_time=1727785001137, experiment_id='637350945412675068', last_update_time=1727785001137, lifecycle_stage='active', name='parent_run_experiment', tags={}>"
      ]
     },
     "execution_count": 207,
     "metadata": {},
     "output_type": "execute_result"
    }
   ],
   "source": [
    "# Создать новый эксперимент\n",
    "exp_name = \"parent_run_experiment\"\n",
    "#experiment_id = mlflow.create_experiment(exp_name)\n",
    "mlflow.set_experiment(exp_name)"
   ]
  },
  {
   "cell_type": "code",
   "execution_count": 208,
   "id": "d78ea6aa-fd15-4822-9db2-db7162dbb177",
   "metadata": {},
   "outputs": [],
   "source": [
    "models = dict(zip([\"RandomForest\", \"LinearRegression\", \"HistGB\"], \n",
    "                  [RandomForestRegressor(), LinearRegression(), HistGradientBoostingRegressor()]))"
   ]
  },
  {
   "cell_type": "code",
   "execution_count": 209,
   "id": "8d1b1976-bb5b-4f59-9a77-60d1703d9860",
   "metadata": {},
   "outputs": [
    {
     "name": "stderr",
     "output_type": "stream",
     "text": [
      "/opt/conda/lib/python3.11/site-packages/_distutils_hack/__init__.py:18: UserWarning: Distutils was imported before Setuptools, but importing Setuptools also replaces the `distutils` module in `sys.modules`. This may lead to undesirable behaviors or errors. To avoid these issues, avoid using distutils directly, ensure that setuptools is installed in the traditional way (e.g. not an editable install), and/or make sure that setuptools is always imported before distutils.\n",
      "  warnings.warn(\n",
      "/opt/conda/lib/python3.11/site-packages/_distutils_hack/__init__.py:33: UserWarning: Setuptools is replacing distutils.\n",
      "  warnings.warn(\"Setuptools is replacing distutils.\")\n"
     ]
    },
    {
     "data": {
      "application/vnd.jupyter.widget-view+json": {
       "model_id": "eb97e0839e334a82a586928496987f79",
       "version_major": 2,
       "version_minor": 0
      },
      "text/plain": [
       "Downloading artifacts:   0%|          | 0/5 [00:00<?, ?it/s]"
      ]
     },
     "metadata": {},
     "output_type": "display_data"
    },
    {
     "name": "stderr",
     "output_type": "stream",
     "text": [
      "2024/10/01 16:11:58 INFO mlflow.models.evaluation.default_evaluator: Computing model predictions.\n",
      "2024/10/01 16:11:58 INFO mlflow.models.evaluation.default_evaluator: Testing metrics on first row...\n",
      "2024/10/01 16:11:58 WARNING mlflow.models.evaluation.default_evaluator: SHAP or matplotlib package is not installed, so model explainability insights will not be logged.\n",
      "2024/10/01 16:11:58 INFO mlflow.tracking._tracking_service.client: 🏃 View run RandomForest at: http://mlflow-service:5000/#/experiments/281429030876195101/runs/7757a8ec7dc2441db304db707dc69259.\n",
      "2024/10/01 16:11:58 INFO mlflow.tracking._tracking_service.client: 🧪 View experiment at: http://mlflow-service:5000/#/experiments/281429030876195101.\n",
      "/opt/conda/lib/python3.11/site-packages/_distutils_hack/__init__.py:18: UserWarning: Distutils was imported before Setuptools, but importing Setuptools also replaces the `distutils` module in `sys.modules`. This may lead to undesirable behaviors or errors. To avoid these issues, avoid using distutils directly, ensure that setuptools is installed in the traditional way (e.g. not an editable install), and/or make sure that setuptools is always imported before distutils.\n",
      "  warnings.warn(\n",
      "/opt/conda/lib/python3.11/site-packages/_distutils_hack/__init__.py:33: UserWarning: Setuptools is replacing distutils.\n",
      "  warnings.warn(\"Setuptools is replacing distutils.\")\n"
     ]
    },
    {
     "data": {
      "application/vnd.jupyter.widget-view+json": {
       "model_id": "3a9148a35e744915b72c73c8b90406eb",
       "version_major": 2,
       "version_minor": 0
      },
      "text/plain": [
       "Downloading artifacts:   0%|          | 0/5 [00:00<?, ?it/s]"
      ]
     },
     "metadata": {},
     "output_type": "display_data"
    },
    {
     "name": "stderr",
     "output_type": "stream",
     "text": [
      "2024/10/01 16:12:03 INFO mlflow.models.evaluation.default_evaluator: Computing model predictions.\n",
      "2024/10/01 16:12:03 INFO mlflow.models.evaluation.default_evaluator: Testing metrics on first row...\n",
      "2024/10/01 16:12:03 WARNING mlflow.models.evaluation.default_evaluator: SHAP or matplotlib package is not installed, so model explainability insights will not be logged.\n",
      "2024/10/01 16:12:03 INFO mlflow.tracking._tracking_service.client: 🏃 View run LinearRegression at: http://mlflow-service:5000/#/experiments/281429030876195101/runs/1350974917be49f68e85cef99d148a34.\n",
      "2024/10/01 16:12:03 INFO mlflow.tracking._tracking_service.client: 🧪 View experiment at: http://mlflow-service:5000/#/experiments/281429030876195101.\n",
      "/opt/conda/lib/python3.11/site-packages/_distutils_hack/__init__.py:18: UserWarning: Distutils was imported before Setuptools, but importing Setuptools also replaces the `distutils` module in `sys.modules`. This may lead to undesirable behaviors or errors. To avoid these issues, avoid using distutils directly, ensure that setuptools is installed in the traditional way (e.g. not an editable install), and/or make sure that setuptools is always imported before distutils.\n",
      "  warnings.warn(\n",
      "/opt/conda/lib/python3.11/site-packages/_distutils_hack/__init__.py:33: UserWarning: Setuptools is replacing distutils.\n",
      "  warnings.warn(\"Setuptools is replacing distutils.\")\n"
     ]
    },
    {
     "data": {
      "application/vnd.jupyter.widget-view+json": {
       "model_id": "50ac6569a3a24007819fb0808ced00e1",
       "version_major": 2,
       "version_minor": 0
      },
      "text/plain": [
       "Downloading artifacts:   0%|          | 0/5 [00:00<?, ?it/s]"
      ]
     },
     "metadata": {},
     "output_type": "display_data"
    },
    {
     "name": "stderr",
     "output_type": "stream",
     "text": [
      "2024/10/01 16:12:13 INFO mlflow.models.evaluation.default_evaluator: Computing model predictions.\n",
      "2024/10/01 16:12:13 INFO mlflow.models.evaluation.default_evaluator: Testing metrics on first row...\n",
      "2024/10/01 16:12:13 WARNING mlflow.models.evaluation.default_evaluator: SHAP or matplotlib package is not installed, so model explainability insights will not be logged.\n",
      "2024/10/01 16:12:13 INFO mlflow.tracking._tracking_service.client: 🏃 View run HistGB at: http://mlflow-service:5000/#/experiments/281429030876195101/runs/d36a6639963241d68d8a6c9f50711655.\n",
      "2024/10/01 16:12:13 INFO mlflow.tracking._tracking_service.client: 🧪 View experiment at: http://mlflow-service:5000/#/experiments/281429030876195101.\n",
      "2024/10/01 16:12:13 INFO mlflow.tracking._tracking_service.client: 🏃 View run parent_run at: http://mlflow-service:5000/#/experiments/281429030876195101/runs/b6244cf9e2a8440a96ba1ea4591e4119.\n",
      "2024/10/01 16:12:13 INFO mlflow.tracking._tracking_service.client: 🧪 View experiment at: http://mlflow-service:5000/#/experiments/281429030876195101.\n"
     ]
    }
   ],
   "source": [
    "# Создадим parent run.\n",
    "with mlflow.start_run(run_name=\"parent_run\", experiment_id = experiment_id, description = \"parent\") as parent_run:\n",
    "    for model_name in models.keys():\n",
    "        # Запустим child run на каждую модель.\n",
    "        with mlflow.start_run(run_name=model_name, experiment_id=experiment_id, nested=True) as child_run:\n",
    "            model = models[model_name]\n",
    "            \n",
    "            # Обучим модель.\n",
    "            model.fit(pd.DataFrame(X_train), y_train)\n",
    "        \n",
    "            # Сделаем предсказание.\n",
    "            prediction = model.predict(X_val)\n",
    "        \n",
    "            # Создадим валидационный датасет.\n",
    "            eval_df = X_val.copy()\n",
    "            eval_df[\"target\"] = y_val\n",
    "        \n",
    "            # Сохраним результаты обучения с помощью MLFlow.\n",
    "            signature = infer_signature(X_test, prediction)\n",
    "            model_info = mlflow.sklearn.log_model(model, \"logreg\", signature=signature)\n",
    "            mlflow.evaluate(\n",
    "                model=model_info.model_uri,\n",
    "                data=eval_df,\n",
    "                targets=\"target\",\n",
    "                model_type=\"regressor\",\n",
    "                evaluators=[\"default\"],\n",
    "            )"
   ]
  },
  {
   "cell_type": "markdown",
   "id": "d7a3b6a8-f5b7-4404-a067-0af732d47b35",
   "metadata": {},
   "source": [
    "# Работа с реджистри"
   ]
  },
  {
   "cell_type": "code",
   "execution_count": 210,
   "id": "bb4dedb2-b594-4e12-a62d-bd8f4b91ff70",
   "metadata": {},
   "outputs": [
    {
     "name": "stderr",
     "output_type": "stream",
     "text": [
      "/opt/conda/lib/python3.11/site-packages/_distutils_hack/__init__.py:18: UserWarning: Distutils was imported before Setuptools, but importing Setuptools also replaces the `distutils` module in `sys.modules`. This may lead to undesirable behaviors or errors. To avoid these issues, avoid using distutils directly, ensure that setuptools is installed in the traditional way (e.g. not an editable install), and/or make sure that setuptools is always imported before distutils.\n",
      "  warnings.warn(\n",
      "/opt/conda/lib/python3.11/site-packages/_distutils_hack/__init__.py:33: UserWarning: Setuptools is replacing distutils.\n",
      "  warnings.warn(\"Setuptools is replacing distutils.\")\n"
     ]
    },
    {
     "data": {
      "application/vnd.jupyter.widget-view+json": {
       "model_id": "c6cde292ce4d4750b147fedc98a04ee3",
       "version_major": 2,
       "version_minor": 0
      },
      "text/plain": [
       "Downloading artifacts:   0%|          | 0/5 [00:00<?, ?it/s]"
      ]
     },
     "metadata": {},
     "output_type": "display_data"
    },
    {
     "name": "stderr",
     "output_type": "stream",
     "text": [
      "2024/10/01 16:17:01 INFO mlflow.models.evaluation.default_evaluator: Computing model predictions.\n",
      "2024/10/01 16:17:01 INFO mlflow.models.evaluation.default_evaluator: Testing metrics on first row...\n",
      "2024/10/01 16:17:01 WARNING mlflow.models.evaluation.default_evaluator: SHAP or matplotlib package is not installed, so model explainability insights will not be logged.\n",
      "2024/10/01 16:17:01 INFO mlflow.tracking._tracking_service.client: 🏃 View run valuable-donkey-150 at: http://mlflow-service:5000/#/experiments/637350945412675068/runs/dbb5f886c2d647e59d964a5be27362c5.\n",
      "2024/10/01 16:17:01 INFO mlflow.tracking._tracking_service.client: 🧪 View experiment at: http://mlflow-service:5000/#/experiments/637350945412675068.\n"
     ]
    }
   ],
   "source": [
    "# Запустим свой первый run в рамках созданного выше эксперимента.\n",
    "with mlflow.start_run() as run:\n",
    "    # Обучим модель.\n",
    "    model.fit(pd.DataFrame(X_train), y_train)\n",
    "\n",
    "    # Сделаем предсказание.\n",
    "    prediction = model.predict(X_val)\n",
    "\n",
    "    # Создадим валидационный датасет.\n",
    "    eval_df = X_val.copy()\n",
    "    eval_df[\"target\"] = y_val\n",
    "\n",
    "    # Сохраним результаты обучения с помощью MLFlow.\n",
    "    signature = infer_signature(X_test, prediction)\n",
    "    model_info = mlflow.sklearn.log_model(model, 'linreg', signature=signature)\n",
    "    mlflow.evaluate(\n",
    "        model=model_info.model_uri,\n",
    "        data=eval_df,\n",
    "        targets=\"target\",\n",
    "        model_type=\"regressor\",\n",
    "        evaluators=[\"default\"],\n",
    "    )"
   ]
  },
  {
   "cell_type": "code",
   "execution_count": 212,
   "id": "93d8e0a1-1272-40f9-b870-95213be8330b",
   "metadata": {},
   "outputs": [
    {
     "data": {
      "text/plain": [
       "'runs:/dbb5f886c2d647e59d964a5be27362c5/logreg'"
      ]
     },
     "execution_count": 212,
     "metadata": {},
     "output_type": "execute_result"
    }
   ],
   "source": [
    "model_info.model_uri"
   ]
  },
  {
   "cell_type": "markdown",
   "id": "5b3d4e14-eb0e-4ba3-b8ef-370135d593a4",
   "metadata": {},
   "source": [
    "Регистрация модели и версии способ 1"
   ]
  },
  {
   "cell_type": "code",
   "execution_count": 213,
   "id": "87b16bab-7237-4c9b-85cf-b6ed3afee2b5",
   "metadata": {},
   "outputs": [
    {
     "name": "stderr",
     "output_type": "stream",
     "text": [
      "Successfully registered model 'linreg-model'.\n",
      "2024/10/01 16:17:35 INFO mlflow.store.model_registry.abstract_store: Waiting up to 300 seconds for model version to finish creation. Model name: linreg-model, version 1\n",
      "Created version '1' of model 'linreg-model'.\n"
     ]
    },
    {
     "data": {
      "text/plain": [
       "<ModelVersion: aliases=[], creation_timestamp=1727799455595, current_stage='None', description='', last_updated_timestamp=1727799455595, name='linreg-model', run_id='dbb5f886c2d647e59d964a5be27362c5', run_link='', source='s3://lizvladi-mlflow-artifacts/parent_run_experiment/dbb5f886c2d647e59d964a5be27362c5/artifacts/logreg', status='READY', status_message='', tags={}, user_id='', version='1'>"
      ]
     },
     "execution_count": 213,
     "metadata": {},
     "output_type": "execute_result"
    }
   ],
   "source": [
    "mlflow.register_model(model_uri=model_info.model_uri, name='linreg-model')"
   ]
  },
  {
   "cell_type": "markdown",
   "id": "cf8ad4a7-9dc6-4e0b-b104-74841b40ef04",
   "metadata": {},
   "source": [
    "Регистрация версии способ 2"
   ]
  },
  {
   "cell_type": "code",
   "execution_count": 214,
   "id": "4f802a3e-80e5-4c8e-ae78-ced45404e8cc",
   "metadata": {},
   "outputs": [],
   "source": [
    "client = MlflowClient()"
   ]
  },
  {
   "cell_type": "code",
   "execution_count": 216,
   "id": "f5e2e7d3-718e-442c-aed3-9ea0019a181a",
   "metadata": {},
   "outputs": [
    {
     "name": "stderr",
     "output_type": "stream",
     "text": [
      "2024/10/01 16:19:44 INFO mlflow.store.model_registry.abstract_store: Waiting up to 300 seconds for model version to finish creation. Model name: linreg-model, version 2\n"
     ]
    },
    {
     "data": {
      "text/plain": [
       "<ModelVersion: aliases=[], creation_timestamp=1727799584334, current_stage='None', description='', last_updated_timestamp=1727799584334, name='linreg-model', run_id='dbb5f886c2d647e59d964a5be27362c5', run_link='', source='runs:/dbb5f886c2d647e59d964a5be27362c5/logreg', status='READY', status_message='', tags={}, user_id='', version='2'>"
      ]
     },
     "execution_count": 216,
     "metadata": {},
     "output_type": "execute_result"
    }
   ],
   "source": [
    "client.create_model_version(name='linreg-model', source=model_info.model_uri, run_id=run.info.run_id)"
   ]
  },
  {
   "cell_type": "markdown",
   "id": "7fce5f1d-84ed-4773-bd59-5b67d7607a12",
   "metadata": {},
   "source": [
    "Регистрация версии способ 3"
   ]
  },
  {
   "cell_type": "code",
   "execution_count": 217,
   "id": "fc4d5ffa-425a-459b-a6e3-0702af252d42",
   "metadata": {},
   "outputs": [
    {
     "name": "stderr",
     "output_type": "stream",
     "text": [
      "/opt/conda/lib/python3.11/site-packages/_distutils_hack/__init__.py:18: UserWarning: Distutils was imported before Setuptools, but importing Setuptools also replaces the `distutils` module in `sys.modules`. This may lead to undesirable behaviors or errors. To avoid these issues, avoid using distutils directly, ensure that setuptools is installed in the traditional way (e.g. not an editable install), and/or make sure that setuptools is always imported before distutils.\n",
      "  warnings.warn(\n",
      "/opt/conda/lib/python3.11/site-packages/_distutils_hack/__init__.py:33: UserWarning: Setuptools is replacing distutils.\n",
      "  warnings.warn(\"Setuptools is replacing distutils.\")\n",
      "Successfully registered model 'sk-learn-RandomForest-reg-model'.\n",
      "2024/10/01 16:20:50 INFO mlflow.store.model_registry.abstract_store: Waiting up to 300 seconds for model version to finish creation. Model name: sk-learn-RandomForest-reg-model, version 1\n",
      "Created version '1' of model 'sk-learn-RandomForest-reg-model'.\n"
     ]
    },
    {
     "data": {
      "application/vnd.jupyter.widget-view+json": {
       "model_id": "4f0e3d846e794378b00a852b21122741",
       "version_major": 2,
       "version_minor": 0
      },
      "text/plain": [
       "Downloading artifacts:   0%|          | 0/5 [00:00<?, ?it/s]"
      ]
     },
     "metadata": {},
     "output_type": "display_data"
    },
    {
     "name": "stderr",
     "output_type": "stream",
     "text": [
      "2024/10/01 16:20:56 INFO mlflow.models.evaluation.default_evaluator: Computing model predictions.\n",
      "2024/10/01 16:20:56 INFO mlflow.models.evaluation.default_evaluator: Testing metrics on first row...\n",
      "2024/10/01 16:20:56 WARNING mlflow.models.evaluation.default_evaluator: SHAP or matplotlib package is not installed, so model explainability insights will not be logged.\n",
      "2024/10/01 16:20:56 INFO mlflow.tracking._tracking_service.client: 🏃 View run RandomForest at: http://mlflow-service:5000/#/experiments/281429030876195101/runs/9532f97ad3334314aedd97517b00f4cb.\n",
      "2024/10/01 16:20:56 INFO mlflow.tracking._tracking_service.client: 🧪 View experiment at: http://mlflow-service:5000/#/experiments/281429030876195101.\n",
      "/opt/conda/lib/python3.11/site-packages/_distutils_hack/__init__.py:18: UserWarning: Distutils was imported before Setuptools, but importing Setuptools also replaces the `distutils` module in `sys.modules`. This may lead to undesirable behaviors or errors. To avoid these issues, avoid using distutils directly, ensure that setuptools is installed in the traditional way (e.g. not an editable install), and/or make sure that setuptools is always imported before distutils.\n",
      "  warnings.warn(\n",
      "/opt/conda/lib/python3.11/site-packages/_distutils_hack/__init__.py:33: UserWarning: Setuptools is replacing distutils.\n",
      "  warnings.warn(\"Setuptools is replacing distutils.\")\n",
      "Successfully registered model 'sk-learn-LinearRegression-reg-model'.\n",
      "2024/10/01 16:21:00 INFO mlflow.store.model_registry.abstract_store: Waiting up to 300 seconds for model version to finish creation. Model name: sk-learn-LinearRegression-reg-model, version 1\n",
      "Created version '1' of model 'sk-learn-LinearRegression-reg-model'.\n"
     ]
    },
    {
     "data": {
      "application/vnd.jupyter.widget-view+json": {
       "model_id": "33984f31f5474fc599d49a0180e4fa4a",
       "version_major": 2,
       "version_minor": 0
      },
      "text/plain": [
       "Downloading artifacts:   0%|          | 0/5 [00:00<?, ?it/s]"
      ]
     },
     "metadata": {},
     "output_type": "display_data"
    },
    {
     "name": "stderr",
     "output_type": "stream",
     "text": [
      "2024/10/01 16:21:01 INFO mlflow.models.evaluation.default_evaluator: Computing model predictions.\n",
      "2024/10/01 16:21:01 INFO mlflow.models.evaluation.default_evaluator: Testing metrics on first row...\n",
      "2024/10/01 16:21:01 WARNING mlflow.models.evaluation.default_evaluator: SHAP or matplotlib package is not installed, so model explainability insights will not be logged.\n",
      "2024/10/01 16:21:01 INFO mlflow.tracking._tracking_service.client: 🏃 View run LinearRegression at: http://mlflow-service:5000/#/experiments/281429030876195101/runs/f082e1f0bc1340b692b497d9b06ed9db.\n",
      "2024/10/01 16:21:01 INFO mlflow.tracking._tracking_service.client: 🧪 View experiment at: http://mlflow-service:5000/#/experiments/281429030876195101.\n",
      "/opt/conda/lib/python3.11/site-packages/_distutils_hack/__init__.py:18: UserWarning: Distutils was imported before Setuptools, but importing Setuptools also replaces the `distutils` module in `sys.modules`. This may lead to undesirable behaviors or errors. To avoid these issues, avoid using distutils directly, ensure that setuptools is installed in the traditional way (e.g. not an editable install), and/or make sure that setuptools is always imported before distutils.\n",
      "  warnings.warn(\n",
      "/opt/conda/lib/python3.11/site-packages/_distutils_hack/__init__.py:33: UserWarning: Setuptools is replacing distutils.\n",
      "  warnings.warn(\"Setuptools is replacing distutils.\")\n",
      "Successfully registered model 'sk-learn-HistGB-reg-model'.\n",
      "2024/10/01 16:21:07 INFO mlflow.store.model_registry.abstract_store: Waiting up to 300 seconds for model version to finish creation. Model name: sk-learn-HistGB-reg-model, version 1\n",
      "Created version '1' of model 'sk-learn-HistGB-reg-model'.\n"
     ]
    },
    {
     "data": {
      "application/vnd.jupyter.widget-view+json": {
       "model_id": "7174b4420e2246a6b49c5178875e50d8",
       "version_major": 2,
       "version_minor": 0
      },
      "text/plain": [
       "Downloading artifacts:   0%|          | 0/5 [00:00<?, ?it/s]"
      ]
     },
     "metadata": {},
     "output_type": "display_data"
    },
    {
     "name": "stderr",
     "output_type": "stream",
     "text": [
      "2024/10/01 16:21:09 INFO mlflow.models.evaluation.default_evaluator: Computing model predictions.\n",
      "2024/10/01 16:21:09 INFO mlflow.models.evaluation.default_evaluator: Testing metrics on first row...\n",
      "2024/10/01 16:21:09 WARNING mlflow.models.evaluation.default_evaluator: SHAP or matplotlib package is not installed, so model explainability insights will not be logged.\n",
      "2024/10/01 16:21:09 INFO mlflow.tracking._tracking_service.client: 🏃 View run HistGB at: http://mlflow-service:5000/#/experiments/281429030876195101/runs/3322b4506cf54da88f325a248799cc9f.\n",
      "2024/10/01 16:21:09 INFO mlflow.tracking._tracking_service.client: 🧪 View experiment at: http://mlflow-service:5000/#/experiments/281429030876195101.\n",
      "2024/10/01 16:21:09 INFO mlflow.tracking._tracking_service.client: 🏃 View run parent_run at: http://mlflow-service:5000/#/experiments/281429030876195101/runs/b7f35d1ab419468fb6c2549922069677.\n",
      "2024/10/01 16:21:09 INFO mlflow.tracking._tracking_service.client: 🧪 View experiment at: http://mlflow-service:5000/#/experiments/281429030876195101.\n"
     ]
    }
   ],
   "source": [
    "# Создадим parent run.\n",
    "with mlflow.start_run(run_name=\"parent_run\", experiment_id = experiment_id, description = \"parent\") as parent_run:\n",
    "    for model_name in models.keys():\n",
    "        # Запустим child run на каждую модель.\n",
    "        with mlflow.start_run(run_name=model_name, experiment_id=experiment_id, nested=True) as child_run:\n",
    "            model = models[model_name]\n",
    "            \n",
    "            # Обучим модель.\n",
    "            model.fit(pd.DataFrame(X_train), y_train)\n",
    "        \n",
    "            # Сделаем предсказание.\n",
    "            prediction = model.predict(X_val)\n",
    "\n",
    "            # Создадим валидационный датасет.\n",
    "            eval_df = X_val.copy()\n",
    "            eval_df[\"target\"] = y_val\n",
    "        \n",
    "            # Сохраним результаты обучения с помощью MLFlow.\n",
    "            signature = infer_signature(X_test, prediction)\n",
    "            model_info = mlflow.sklearn.log_model(model, \"linreg\", signature=signature, \n",
    "                                                  registered_model_name=f\"sk-learn-{model_name}-reg-model\")\n",
    "            mlflow.evaluate(\n",
    "                model=model_info.model_uri,\n",
    "                data=eval_df,\n",
    "                targets=\"target\",\n",
    "                model_type=\"regressor\",\n",
    "                evaluators=[\"default\"],\n",
    "            )"
   ]
  },
  {
   "cell_type": "code",
   "execution_count": 220,
   "id": "0ccf3664-281e-48b3-b3d0-91c1856d40d6",
   "metadata": {},
   "outputs": [
    {
     "data": {
      "application/vnd.jupyter.widget-view+json": {
       "model_id": "1766ecff494f4c039602bea7dfffb53f",
       "version_major": 2,
       "version_minor": 0
      },
      "text/plain": [
       "Downloading artifacts:   0%|          | 0/5 [00:00<?, ?it/s]"
      ]
     },
     "metadata": {},
     "output_type": "display_data"
    }
   ],
   "source": [
    "model = mlflow.sklearn.load_model(model_uri='s3://lizvladi-mlflow-artifacts/mlflow/281429030876195101/3322b4506cf54da88f325a248799cc9f/artifacts/linreg')"
   ]
  },
  {
   "cell_type": "code",
   "execution_count": 222,
   "id": "26f8fd8b-e1fc-4951-9db3-7da3c1ba0009",
   "metadata": {},
   "outputs": [
    {
     "data": {
      "text/plain": [
       "array([1.8427382 , 0.94766565, 4.7691683 , ..., 3.62601169, 2.77058856,\n",
       "       2.32143739])"
      ]
     },
     "execution_count": 222,
     "metadata": {},
     "output_type": "execute_result"
    }
   ],
   "source": [
    "model.predict(X_test)"
   ]
  }
 ],
 "metadata": {
  "kernelspec": {
   "display_name": "Python 3 (ipykernel)",
   "language": "python",
   "name": "python3"
  },
  "language_info": {
   "codemirror_mode": {
    "name": "ipython",
    "version": 3
   },
   "file_extension": ".py",
   "mimetype": "text/x-python",
   "name": "python",
   "nbconvert_exporter": "python",
   "pygments_lexer": "ipython3",
   "version": "3.11.4"
  }
 },
 "nbformat": 4,
 "nbformat_minor": 5
}
